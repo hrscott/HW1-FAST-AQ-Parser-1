{
 "cells": [
  {
   "cell_type": "code",
   "execution_count": 26,
   "metadata": {},
   "outputs": [
    {
     "data": {
      "text/plain": [
       "'/Users/henryrscott/Desktop/Algos/HW1-FAST-AQ-Parser-1'"
      ]
     },
     "execution_count": 26,
     "metadata": {},
     "output_type": "execute_result"
    }
   ],
   "source": [
    "pwd\n",
    "import os \n",
    "import sys"
   ]
  },
  {
   "cell_type": "code",
   "execution_count": 28,
   "metadata": {},
   "outputs": [
    {
     "name": "stdout",
     "output_type": "stream",
     "text": [
      "2427.33s - pydevd: Sending message related to process being replaced timed-out after 5 seconds\n",
      "Processing /Users/henryrscott/Desktop/Algos/HW1-FAST-AQ-Parser-1\n",
      "  Installing build dependencies ... \u001b[?25ldone\n",
      "\u001b[?25h  Getting requirements to build wheel ... \u001b[?25ldone\n",
      "\u001b[?25h  Preparing metadata (pyproject.toml) ... \u001b[?25ldone\n",
      "\u001b[?25hRequirement already satisfied: pytest in /opt/homebrew/lib/python3.10/site-packages (from seqparser==0.1.1) (7.2.1)\n",
      "Requirement already satisfied: tomli>=1.0.0 in /opt/homebrew/lib/python3.10/site-packages (from pytest->seqparser==0.1.1) (2.0.1)\n",
      "Requirement already satisfied: attrs>=19.2.0 in /opt/homebrew/lib/python3.10/site-packages (from pytest->seqparser==0.1.1) (22.1.0)\n",
      "Requirement already satisfied: packaging in /opt/homebrew/lib/python3.10/site-packages (from pytest->seqparser==0.1.1) (23.0)\n",
      "Requirement already satisfied: pluggy<2.0,>=0.12 in /opt/homebrew/lib/python3.10/site-packages (from pytest->seqparser==0.1.1) (1.0.0)\n",
      "Requirement already satisfied: iniconfig in /opt/homebrew/lib/python3.10/site-packages (from pytest->seqparser==0.1.1) (2.0.0)\n",
      "Requirement already satisfied: exceptiongroup>=1.0.0rc8 in /opt/homebrew/lib/python3.10/site-packages (from pytest->seqparser==0.1.1) (1.1.0)\n",
      "Building wheels for collected packages: seqparser\n",
      "  Building wheel for seqparser (pyproject.toml) ... \u001b[?25ldone\n",
      "\u001b[?25h  Created wheel for seqparser: filename=seqparser-0.1.1-py2.py3-none-any.whl size=10279 sha256=94e9b5caccd1b3d6d2dcecc36aad340111dc4e351fa3f76b2e28541213009dff\n",
      "  Stored in directory: /Users/henryrscott/Library/Caches/pip/wheels/f1/64/ac/cc8c4bef6aa4dfce78ab67246500423f27990e6bde62aa5cd4\n",
      "Successfully built seqparser\n",
      "Installing collected packages: seqparser\n",
      "  Attempting uninstall: seqparser\n",
      "    Found existing installation: seqparser 0.1.1\n",
      "    Uninstalling seqparser-0.1.1:\n",
      "      Successfully uninstalled seqparser-0.1.1\n",
      "Successfully installed seqparser-0.1.1\n"
     ]
    }
   ],
   "source": [
    "! pip install ."
   ]
  },
  {
   "cell_type": "code",
   "execution_count": 5,
   "metadata": {},
   "outputs": [],
   "source": [
    "from seqparser import (\n",
    "        FastaParser,\n",
    "        FastqParser,\n",
    "        transcribe,\n",
    "        reverse_transcribe)"
   ]
  },
  {
   "cell_type": "code",
   "execution_count": 7,
   "metadata": {},
   "outputs": [
    {
     "name": "stdout",
     "output_type": "stream",
     "text": [
      "<seqparser.parse.FastaParser object at 0x1085b7c50>\n"
     ]
    }
   ],
   "source": [
    "fasta_seq=FastaParser(\"data/test.fa\")\n",
    "print(fasta_seq)"
   ]
  },
  {
   "cell_type": "code",
   "execution_count": null,
   "metadata": {},
   "outputs": [],
   "source": []
  }
 ],
 "metadata": {
  "kernelspec": {
   "display_name": "Python 3",
   "language": "python",
   "name": "python3"
  },
  "language_info": {
   "codemirror_mode": {
    "name": "ipython",
    "version": 3
   },
   "file_extension": ".py",
   "mimetype": "text/x-python",
   "name": "python",
   "nbconvert_exporter": "python",
   "pygments_lexer": "ipython3",
   "version": "3.11.1"
  },
  "orig_nbformat": 4,
  "vscode": {
   "interpreter": {
    "hash": "5c7b89af1651d0b8571dde13640ecdccf7d5a6204171d6ab33e7c296e100e08a"
   }
  }
 },
 "nbformat": 4,
 "nbformat_minor": 2
}
